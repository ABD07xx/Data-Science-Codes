{
 "cells": [
  {
   "cell_type": "code",
   "execution_count": 1,
   "id": "63174199",
   "metadata": {},
   "outputs": [],
   "source": [
    "import os"
   ]
  },
  {
   "cell_type": "code",
   "execution_count": 2,
   "id": "b04e2757",
   "metadata": {},
   "outputs": [
    {
     "data": {
      "text/plain": [
       "'C:\\\\Users\\\\jain1a\\\\Desktop\\\\Learning\\\\GFG\\\\Data Science Live\\\\Data-Science-Live-Course-GeeksForGeeks\\\\5. OS with Python\\\\Codes\\\\2. List Directories'"
      ]
     },
     "execution_count": 2,
     "metadata": {},
     "output_type": "execute_result"
    }
   ],
   "source": [
    "os.getcwd()"
   ]
  },
  {
   "cell_type": "code",
   "execution_count": 5,
   "id": "20af4dd9",
   "metadata": {},
   "outputs": [
    {
     "name": "stdout",
     "output_type": "stream",
     "text": [
      "text.txt\n"
     ]
    }
   ],
   "source": [
    "for i in os.listdir('Imgs'):\n",
    "    if i != '.ipynb_checkpoints':\n",
    "        print(i)\n",
    "    "
   ]
  },
  {
   "cell_type": "code",
   "execution_count": null,
   "id": "e9eb6b6b",
   "metadata": {},
   "outputs": [],
   "source": [
    "for i in os.listdir('Imgs'):\n",
    "    if i != '.DS_Store':\n",
    "        print(i)"
   ]
  },
  {
   "cell_type": "code",
   "execution_count": 6,
   "id": "6ba14d42",
   "metadata": {},
   "outputs": [],
   "source": [
    "!touch fle.txt"
   ]
  },
  {
   "cell_type": "code",
   "execution_count": 7,
   "id": "08f70797",
   "metadata": {},
   "outputs": [
    {
     "name": "stdout",
     "output_type": "stream",
     "text": [
      "Imgs\n",
      "OS Library - List Directories.ipynb\n",
      "fle.txt\n"
     ]
    }
   ],
   "source": [
    "!ls"
   ]
  },
  {
   "cell_type": "code",
   "execution_count": 8,
   "id": "6d6ad931",
   "metadata": {},
   "outputs": [],
   "source": [
    "os.rename('fle.txt','File.txt')"
   ]
  },
  {
   "cell_type": "code",
   "execution_count": 9,
   "id": "c8b77f1a",
   "metadata": {},
   "outputs": [],
   "source": [
    "os.remove('File.txt')"
   ]
  },
  {
   "cell_type": "code",
   "execution_count": 10,
   "id": "8113e9c4",
   "metadata": {},
   "outputs": [],
   "source": [
    "if os.path.exists(\"Imgs/G\"):\n",
    "    print(\"Folder Already Exists!\")\n",
    "else:\n",
    "    os.mkdir('Imgs/G')"
   ]
  },
  {
   "cell_type": "code",
   "execution_count": 11,
   "id": "eac4ded9",
   "metadata": {},
   "outputs": [
    {
     "data": {
      "text/plain": [
       "0"
      ]
     },
     "execution_count": 11,
     "metadata": {},
     "output_type": "execute_result"
    }
   ],
   "source": [
    "os.path.getsize('Imgs')"
   ]
  },
  {
   "cell_type": "code",
   "execution_count": null,
   "id": "f1f27dbd",
   "metadata": {},
   "outputs": [],
   "source": []
  }
 ],
 "metadata": {
  "kernelspec": {
   "display_name": "Python 3 (ipykernel)",
   "language": "python",
   "name": "python3"
  },
  "language_info": {
   "codemirror_mode": {
    "name": "ipython",
    "version": 3
   },
   "file_extension": ".py",
   "mimetype": "text/x-python",
   "name": "python",
   "nbconvert_exporter": "python",
   "pygments_lexer": "ipython3",
   "version": "3.8.8"
  }
 },
 "nbformat": 4,
 "nbformat_minor": 5
}
