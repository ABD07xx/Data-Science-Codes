{
 "cells": [
  {
   "cell_type": "code",
   "execution_count": 1,
   "id": "8e3a1d6c",
   "metadata": {},
   "outputs": [],
   "source": [
    "import os"
   ]
  },
  {
   "cell_type": "code",
   "execution_count": 2,
   "id": "9ada344c",
   "metadata": {},
   "outputs": [
    {
     "data": {
      "text/plain": [
       "['File1.txt', 'File2.txt', 'File3.txt']"
      ]
     },
     "execution_count": 2,
     "metadata": {},
     "output_type": "execute_result"
    }
   ],
   "source": [
    "os.listdir('Files')"
   ]
  },
  {
   "cell_type": "code",
   "execution_count": 3,
   "id": "a794b77e",
   "metadata": {},
   "outputs": [],
   "source": [
    "files = os.listdir('Files')"
   ]
  },
  {
   "cell_type": "code",
   "execution_count": 7,
   "id": "c8fd46bc",
   "metadata": {},
   "outputs": [
    {
     "data": {
      "text/plain": [
       "'C:\\\\Users\\\\jain1a\\\\Desktop\\\\Learning\\\\GFG\\\\Data Science Live\\\\Data-Science-Live-Course-GeeksForGeeks\\\\5. OS with Python\\\\Codes\\\\3. Bulk Text-file Reading'"
      ]
     },
     "execution_count": 7,
     "metadata": {},
     "output_type": "execute_result"
    }
   ],
   "source": [
    "os.getcwd()"
   ]
  },
  {
   "cell_type": "code",
   "execution_count": 8,
   "id": "f1e84a8c",
   "metadata": {},
   "outputs": [
    {
     "ename": "FileNotFoundError",
     "evalue": "[Errno 2] No such file or directory: 'File1.txt'",
     "output_type": "error",
     "traceback": [
      "\u001b[1;31m---------------------------------------------------------------------------\u001b[0m",
      "\u001b[1;31mFileNotFoundError\u001b[0m                         Traceback (most recent call last)",
      "\u001b[1;32m~\\AppData\\Local\\Temp/ipykernel_17120/1658686074.py\u001b[0m in \u001b[0;36m<module>\u001b[1;34m\u001b[0m\n\u001b[0;32m      2\u001b[0m     \u001b[1;32mif\u001b[0m \u001b[0mi\u001b[0m \u001b[1;33m!=\u001b[0m \u001b[1;34m'.DS_Store'\u001b[0m\u001b[1;33m:\u001b[0m\u001b[1;33m\u001b[0m\u001b[1;33m\u001b[0m\u001b[0m\n\u001b[0;32m      3\u001b[0m \u001b[1;33m\u001b[0m\u001b[0m\n\u001b[1;32m----> 4\u001b[1;33m         \u001b[0mfd\u001b[0m \u001b[1;33m=\u001b[0m \u001b[0mopen\u001b[0m\u001b[1;33m(\u001b[0m\u001b[0mi\u001b[0m\u001b[1;33m,\u001b[0m\u001b[1;34m'r'\u001b[0m\u001b[1;33m)\u001b[0m\u001b[1;33m\u001b[0m\u001b[1;33m\u001b[0m\u001b[0m\n\u001b[0m\u001b[0;32m      5\u001b[0m         \u001b[0mprint\u001b[0m\u001b[1;33m(\u001b[0m\u001b[0mi\u001b[0m\u001b[1;33m,\u001b[0m \u001b[0mfd\u001b[0m\u001b[1;33m.\u001b[0m\u001b[0mread\u001b[0m\u001b[1;33m(\u001b[0m\u001b[1;33m)\u001b[0m\u001b[1;33m)\u001b[0m\u001b[1;33m\u001b[0m\u001b[1;33m\u001b[0m\u001b[0m\n\u001b[0;32m      6\u001b[0m         \u001b[0mfd\u001b[0m\u001b[1;33m.\u001b[0m\u001b[0mclose\u001b[0m\u001b[1;33m(\u001b[0m\u001b[1;33m)\u001b[0m\u001b[1;33m\u001b[0m\u001b[1;33m\u001b[0m\u001b[0m\n",
      "\u001b[1;31mFileNotFoundError\u001b[0m: [Errno 2] No such file or directory: 'File1.txt'"
     ]
    }
   ],
   "source": [
    "for i in files:\n",
    "    if i != '.DS_Store':\n",
    "        \n",
    "        fd = open(i,'r')\n",
    "        print(i, fd.read())\n",
    "        fd.close()"
   ]
  },
  {
   "cell_type": "code",
   "execution_count": 9,
   "id": "01d70634",
   "metadata": {},
   "outputs": [
    {
     "name": "stdout",
     "output_type": "stream",
     "text": [
      "Files/File1.txt\n",
      "Files/File2.txt\n",
      "Files/File3.txt\n"
     ]
    }
   ],
   "source": [
    "for i in files:\n",
    "    print('Files/'+i)"
   ]
  },
  {
   "cell_type": "code",
   "execution_count": 6,
   "id": "04659ce8",
   "metadata": {},
   "outputs": [
    {
     "name": "stdout",
     "output_type": "stream",
     "text": [
      "Files/File1.txt This is file 1.\n",
      "\n",
      "Files/File2.txt This is file 2.\n",
      "\n",
      "Files/File3.txt This is file 3.\n",
      "\n"
     ]
    }
   ],
   "source": [
    "for i in files:\n",
    "    if i != '.DS_Store':\n",
    "        \n",
    "        fd = open('Files/'+i,'r')\n",
    "        print('Files/'+i, fd.read())\n",
    "        fd.close()"
   ]
  }
 ],
 "metadata": {
  "kernelspec": {
   "display_name": "Python 3 (ipykernel)",
   "language": "python",
   "name": "python3"
  },
  "language_info": {
   "codemirror_mode": {
    "name": "ipython",
    "version": 3
   },
   "file_extension": ".py",
   "mimetype": "text/x-python",
   "name": "python",
   "nbconvert_exporter": "python",
   "pygments_lexer": "ipython3",
   "version": "3.8.8"
  }
 },
 "nbformat": 4,
 "nbformat_minor": 5
}
