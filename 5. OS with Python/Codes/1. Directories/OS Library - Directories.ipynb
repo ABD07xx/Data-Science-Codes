{
 "cells": [
  {
   "cell_type": "code",
   "execution_count": 1,
   "id": "ce8750e5",
   "metadata": {},
   "outputs": [],
   "source": [
    "import os"
   ]
  },
  {
   "cell_type": "code",
   "execution_count": 3,
   "id": "efc5f034",
   "metadata": {},
   "outputs": [],
   "source": [
    "#os.getcwd()"
   ]
  },
  {
   "cell_type": "code",
   "execution_count": 4,
   "id": "24a362d9",
   "metadata": {},
   "outputs": [],
   "source": [
    "os.chdir(\"Imgs\")"
   ]
  },
  {
   "cell_type": "code",
   "execution_count": 8,
   "id": "a2557553",
   "metadata": {},
   "outputs": [
    {
     "data": {
      "text/plain": [
       "'C:\\\\Users\\\\jain1a\\\\Desktop\\\\Learning\\\\GFG\\\\Data Science Live\\\\Data-Science-Live-Course-GeeksForGeeks\\\\5. OS with Python\\\\Codes\\\\1. Directories\\\\Imgs'"
      ]
     },
     "execution_count": 8,
     "metadata": {},
     "output_type": "execute_result"
    }
   ],
   "source": [
    "#os.getcwd()"
   ]
  },
  {
   "cell_type": "code",
   "execution_count": 9,
   "id": "35940258",
   "metadata": {},
   "outputs": [],
   "source": [
    "os.chdir(\"A\")"
   ]
  },
  {
   "cell_type": "code",
   "execution_count": 11,
   "id": "2c7e1a30",
   "metadata": {},
   "outputs": [],
   "source": [
    "#os.getcwd()"
   ]
  },
  {
   "cell_type": "code",
   "execution_count": 12,
   "id": "661f2e94",
   "metadata": {},
   "outputs": [],
   "source": [
    "os.chdir(\"../\")"
   ]
  },
  {
   "cell_type": "code",
   "execution_count": 13,
   "id": "0373f646",
   "metadata": {},
   "outputs": [
    {
     "data": {
      "text/plain": [
       "'C:\\\\Users\\\\jain1a\\\\Desktop\\\\Learning\\\\GFG\\\\Data Science Live\\\\Data-Science-Live-Course-GeeksForGeeks\\\\5. OS with Python\\\\Codes\\\\1. Directories\\\\Imgs'"
      ]
     },
     "execution_count": 13,
     "metadata": {},
     "output_type": "execute_result"
    }
   ],
   "source": [
    "os.getcwd()"
   ]
  },
  {
   "cell_type": "code",
   "execution_count": 14,
   "id": "b5e87e51",
   "metadata": {},
   "outputs": [
    {
     "name": "stdout",
     "output_type": "stream",
     "text": [
      " Volume in drive C is Windows\n",
      " Volume Serial Number is 1EA9-3249\n",
      "\n",
      " Directory of C:\\Users\\jain1a\\Desktop\\Learning\\GFG\\Data Science Live\\Data-Science-Live-Course-GeeksForGeeks\\5. OS with Python\\Codes\\1. Directories\\Imgs\n",
      "\n",
      "04/30/2022  09:55 PM    <DIR>          .\n",
      "04/30/2022  09:55 PM    <DIR>          ..\n",
      "04/30/2022  09:55 PM    <DIR>          .ipynb_checkpoints\n",
      "04/30/2022  09:55 PM    <DIR>          A\n",
      "04/30/2022  07:57 PM    <DIR>          GFG\n",
      "               0 File(s)              0 bytes\n",
      "               5 Dir(s)  80,598,962,176 bytes free\n"
     ]
    }
   ],
   "source": [
    "ls"
   ]
  },
  {
   "cell_type": "code",
   "execution_count": 15,
   "id": "b2fe87cc",
   "metadata": {},
   "outputs": [],
   "source": [
    "os.mkdir(\"GFG_New\")"
   ]
  },
  {
   "cell_type": "code",
   "execution_count": 16,
   "id": "6d227a42",
   "metadata": {},
   "outputs": [],
   "source": [
    "os.makedirs(\"GFG_Very_new/GFG/GFG/GFG\")"
   ]
  },
  {
   "cell_type": "code",
   "execution_count": 17,
   "id": "9faaf398",
   "metadata": {},
   "outputs": [
    {
     "data": {
      "text/plain": [
       "'GFG/GFG'"
      ]
     },
     "execution_count": 17,
     "metadata": {},
     "output_type": "execute_result"
    }
   ],
   "source": [
    "a = 'GFG'\n",
    "b = 'GFG'\n",
    "\n",
    "\n",
    "a+\"/\"+b"
   ]
  },
  {
   "cell_type": "code",
   "execution_count": 18,
   "id": "c5345cea",
   "metadata": {},
   "outputs": [
    {
     "data": {
      "text/plain": [
       "'GFG\\\\GFG'"
      ]
     },
     "execution_count": 18,
     "metadata": {},
     "output_type": "execute_result"
    }
   ],
   "source": [
    "os.path.join(\"GFG\",\"GFG\")"
   ]
  },
  {
   "cell_type": "code",
   "execution_count": null,
   "id": "7e181e56",
   "metadata": {},
   "outputs": [],
   "source": []
  }
 ],
 "metadata": {
  "kernelspec": {
   "display_name": "Python 3 (ipykernel)",
   "language": "python",
   "name": "python3"
  },
  "language_info": {
   "codemirror_mode": {
    "name": "ipython",
    "version": 3
   },
   "file_extension": ".py",
   "mimetype": "text/x-python",
   "name": "python",
   "nbconvert_exporter": "python",
   "pygments_lexer": "ipython3",
   "version": "3.8.8"
  }
 },
 "nbformat": 4,
 "nbformat_minor": 5
}
