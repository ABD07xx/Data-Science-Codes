{
 "cells": [
  {
   "cell_type": "code",
   "execution_count": null,
   "id": "cdbe1e43",
   "metadata": {},
   "outputs": [],
   "source": [
    "fd = open('data.txt','r')\n",
    "txt = fd.read()\n",
    "fd.close()"
   ]
  },
  {
   "cell_type": "code",
   "execution_count": null,
   "id": "f3e1d7eb",
   "metadata": {},
   "outputs": [],
   "source": [
    "txt"
   ]
  },
  {
   "cell_type": "code",
   "execution_count": null,
   "id": "2b200957",
   "metadata": {
    "scrolled": true
   },
   "outputs": [],
   "source": [
    "for i in range(7,19):\n",
    "    pattern = \"[\" + str(i) + \"]\"\n",
    "    txt = txt.replace(pattern , \"\")"
   ]
  },
  {
   "cell_type": "code",
   "execution_count": null,
   "id": "3e3524ac",
   "metadata": {},
   "outputs": [],
   "source": [
    "print(txt)"
   ]
  },
  {
   "cell_type": "code",
   "execution_count": null,
   "id": "1ae8fdd8",
   "metadata": {},
   "outputs": [],
   "source": [
    "for i in \"!@#$%^\":\n",
    "    txt = txt.replace(i , \"\")"
   ]
  }
 ],
 "metadata": {
  "kernelspec": {
   "display_name": "Python 3 (ipykernel)",
   "language": "python",
   "name": "python3"
  },
  "language_info": {
   "codemirror_mode": {
    "name": "ipython",
    "version": 3
   },
   "file_extension": ".py",
   "mimetype": "text/x-python",
   "name": "python",
   "nbconvert_exporter": "python",
   "pygments_lexer": "ipython3",
   "version": "3.8.8"
  }
 },
 "nbformat": 4,
 "nbformat_minor": 5
}
